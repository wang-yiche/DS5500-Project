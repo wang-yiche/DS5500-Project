{
 "cells": [
  {
   "cell_type": "code",
   "execution_count": 1,
   "metadata": {},
   "outputs": [],
   "source": [
    "import pandas as pd\n",
    "import seaborn as sns\n",
    "import matplotlib.pyplot as plt"
   ]
  },
  {
   "cell_type": "code",
   "execution_count": 2,
   "metadata": {},
   "outputs": [],
   "source": [
    "file_path = 'C:/Users/11941/Downloads/DS5500/NYCData/'"
   ]
  },
  {
   "cell_type": "code",
   "execution_count": 3,
   "metadata": {},
   "outputs": [
    {
     "name": "stderr",
     "output_type": "stream",
     "text": [
      "C:\\Users\\11941\\anaconda3\\lib\\site-packages\\statsmodels\\compat\\pandas.py:61: FutureWarning: pandas.Int64Index is deprecated and will be removed from pandas in a future version. Use pandas.Index with the appropriate dtype instead.\n",
      "  from pandas import Int64Index as NumericIndex\n"
     ]
    }
   ],
   "source": [
    "import forecaster_tool.forecast_tool as ft"
   ]
  },
  {
   "cell_type": "code",
   "execution_count": 4,
   "metadata": {},
   "outputs": [],
   "source": [
    "tool = ft.ForecasterTool()"
   ]
  },
  {
   "cell_type": "code",
   "execution_count": 5,
   "metadata": {},
   "outputs": [],
   "source": [
    "data = tool.load_data(file_path + 'NYC_subway_traffic_2017-2021.csv', unique_id = 1, \n",
    "                      target = 'Entries',features = [], freq = '4h')"
   ]
  },
  {
   "cell_type": "code",
   "execution_count": 6,
   "metadata": {},
   "outputs": [
    {
     "data": {
      "text/html": [
       "<div>\n",
       "<style scoped>\n",
       "    .dataframe tbody tr th:only-of-type {\n",
       "        vertical-align: middle;\n",
       "    }\n",
       "\n",
       "    .dataframe tbody tr th {\n",
       "        vertical-align: top;\n",
       "    }\n",
       "\n",
       "    .dataframe thead th {\n",
       "        text-align: right;\n",
       "    }\n",
       "</style>\n",
       "<table border=\"1\" class=\"dataframe\">\n",
       "  <thead>\n",
       "    <tr style=\"text-align: right;\">\n",
       "      <th></th>\n",
       "      <th>Entries</th>\n",
       "    </tr>\n",
       "  </thead>\n",
       "  <tbody>\n",
       "    <tr>\n",
       "      <th>2017-02-04 04:00:00</th>\n",
       "      <td>403.0</td>\n",
       "    </tr>\n",
       "    <tr>\n",
       "      <th>2017-02-04 08:00:00</th>\n",
       "      <td>1284.0</td>\n",
       "    </tr>\n",
       "    <tr>\n",
       "      <th>2017-02-04 12:00:00</th>\n",
       "      <td>2316.0</td>\n",
       "    </tr>\n",
       "    <tr>\n",
       "      <th>2017-02-04 16:00:00</th>\n",
       "      <td>2383.0</td>\n",
       "    </tr>\n",
       "    <tr>\n",
       "      <th>2017-02-04 20:00:00</th>\n",
       "      <td>1526.0</td>\n",
       "    </tr>\n",
       "    <tr>\n",
       "      <th>...</th>\n",
       "      <td>...</td>\n",
       "    </tr>\n",
       "    <tr>\n",
       "      <th>2021-08-13 00:00:00</th>\n",
       "      <td>138.0</td>\n",
       "    </tr>\n",
       "    <tr>\n",
       "      <th>2021-08-13 04:00:00</th>\n",
       "      <td>223.0</td>\n",
       "    </tr>\n",
       "    <tr>\n",
       "      <th>2021-08-13 08:00:00</th>\n",
       "      <td>1062.0</td>\n",
       "    </tr>\n",
       "    <tr>\n",
       "      <th>2021-08-13 12:00:00</th>\n",
       "      <td>1165.0</td>\n",
       "    </tr>\n",
       "    <tr>\n",
       "      <th>2021-08-13 16:00:00</th>\n",
       "      <td>1748.0</td>\n",
       "    </tr>\n",
       "  </tbody>\n",
       "</table>\n",
       "<p>9910 rows × 1 columns</p>\n",
       "</div>"
      ],
      "text/plain": [
       "                     Entries\n",
       "2017-02-04 04:00:00    403.0\n",
       "2017-02-04 08:00:00   1284.0\n",
       "2017-02-04 12:00:00   2316.0\n",
       "2017-02-04 16:00:00   2383.0\n",
       "2017-02-04 20:00:00   1526.0\n",
       "...                      ...\n",
       "2021-08-13 00:00:00    138.0\n",
       "2021-08-13 04:00:00    223.0\n",
       "2021-08-13 08:00:00   1062.0\n",
       "2021-08-13 12:00:00   1165.0\n",
       "2021-08-13 16:00:00   1748.0\n",
       "\n",
       "[9910 rows x 1 columns]"
      ]
     },
     "execution_count": 6,
     "metadata": {},
     "output_type": "execute_result"
    }
   ],
   "source": [
    "data"
   ]
  },
  {
   "cell_type": "code",
   "execution_count": 7,
   "metadata": {},
   "outputs": [],
   "source": [
    "train, test = tool.train_test_split(train_start_date='2017-03-05', train_end_date='2018-03-05',\n",
    "                         test_start_date='2018-03-06', test_end_date='2018-04-06')"
   ]
  },
  {
   "cell_type": "code",
   "execution_count": 8,
   "metadata": {},
   "outputs": [
    {
     "data": {
      "text/plain": [
       "<forecaster_tool.forecasters.mlp.MLPModel at 0x1ff4d7de5b0>"
      ]
     },
     "execution_count": 8,
     "metadata": {},
     "output_type": "execute_result"
    }
   ],
   "source": [
    "tool.create_forecaster('MLPModel', look_back_steps = 24, forecast_steps = 6)"
   ]
  },
  {
   "cell_type": "code",
   "execution_count": 9,
   "metadata": {},
   "outputs": [
    {
     "name": "stdout",
     "output_type": "stream",
     "text": [
      "Epoch 00083: early stopping\n"
     ]
    }
   ],
   "source": [
    "forecasts, model = tool.fit()"
   ]
  },
  {
   "cell_type": "code",
   "execution_count": 10,
   "metadata": {},
   "outputs": [
    {
     "data": {
      "text/html": [
       "<div>\n",
       "<style scoped>\n",
       "    .dataframe tbody tr th:only-of-type {\n",
       "        vertical-align: middle;\n",
       "    }\n",
       "\n",
       "    .dataframe tbody tr th {\n",
       "        vertical-align: top;\n",
       "    }\n",
       "\n",
       "    .dataframe thead th {\n",
       "        text-align: right;\n",
       "    }\n",
       "</style>\n",
       "<table border=\"1\" class=\"dataframe\">\n",
       "  <thead>\n",
       "    <tr style=\"text-align: right;\">\n",
       "      <th></th>\n",
       "      <th>Datetime</th>\n",
       "      <th>Actual</th>\n",
       "      <th>Forecast_Horizon</th>\n",
       "      <th>Forecast_Step</th>\n",
       "      <th>Predicted</th>\n",
       "    </tr>\n",
       "  </thead>\n",
       "  <tbody>\n",
       "    <tr>\n",
       "      <th>0</th>\n",
       "      <td>2018-03-09 20:00:00</td>\n",
       "      <td>345.0</td>\n",
       "      <td>2018-03-10 00:00:00</td>\n",
       "      <td>1</td>\n",
       "      <td>808</td>\n",
       "    </tr>\n",
       "    <tr>\n",
       "      <th>1</th>\n",
       "      <td>2018-03-09 20:00:00</td>\n",
       "      <td>225.0</td>\n",
       "      <td>2018-03-10 04:00:00</td>\n",
       "      <td>2</td>\n",
       "      <td>452</td>\n",
       "    </tr>\n",
       "    <tr>\n",
       "      <th>2</th>\n",
       "      <td>2018-03-09 20:00:00</td>\n",
       "      <td>1213.0</td>\n",
       "      <td>2018-03-10 08:00:00</td>\n",
       "      <td>3</td>\n",
       "      <td>1393</td>\n",
       "    </tr>\n",
       "    <tr>\n",
       "      <th>3</th>\n",
       "      <td>2018-03-09 20:00:00</td>\n",
       "      <td>2284.0</td>\n",
       "      <td>2018-03-10 12:00:00</td>\n",
       "      <td>4</td>\n",
       "      <td>2267</td>\n",
       "    </tr>\n",
       "    <tr>\n",
       "      <th>4</th>\n",
       "      <td>2018-03-09 20:00:00</td>\n",
       "      <td>2256.0</td>\n",
       "      <td>2018-03-10 16:00:00</td>\n",
       "      <td>5</td>\n",
       "      <td>2419</td>\n",
       "    </tr>\n",
       "    <tr>\n",
       "      <th>...</th>\n",
       "      <td>...</td>\n",
       "      <td>...</td>\n",
       "      <td>...</td>\n",
       "      <td>...</td>\n",
       "      <td>...</td>\n",
       "    </tr>\n",
       "    <tr>\n",
       "      <th>952</th>\n",
       "      <td>2018-04-05 08:00:00</td>\n",
       "      <td>3644.0</td>\n",
       "      <td>2018-04-05 16:00:00</td>\n",
       "      <td>2</td>\n",
       "      <td>3597</td>\n",
       "    </tr>\n",
       "    <tr>\n",
       "      <th>953</th>\n",
       "      <td>2018-04-05 08:00:00</td>\n",
       "      <td>2634.0</td>\n",
       "      <td>2018-04-05 20:00:00</td>\n",
       "      <td>3</td>\n",
       "      <td>2562</td>\n",
       "    </tr>\n",
       "    <tr>\n",
       "      <th>954</th>\n",
       "      <td>2018-04-05 12:00:00</td>\n",
       "      <td>3644.0</td>\n",
       "      <td>2018-04-05 16:00:00</td>\n",
       "      <td>1</td>\n",
       "      <td>3454</td>\n",
       "    </tr>\n",
       "    <tr>\n",
       "      <th>955</th>\n",
       "      <td>2018-04-05 12:00:00</td>\n",
       "      <td>2634.0</td>\n",
       "      <td>2018-04-05 20:00:00</td>\n",
       "      <td>2</td>\n",
       "      <td>2641</td>\n",
       "    </tr>\n",
       "    <tr>\n",
       "      <th>956</th>\n",
       "      <td>2018-04-05 16:00:00</td>\n",
       "      <td>2634.0</td>\n",
       "      <td>2018-04-05 20:00:00</td>\n",
       "      <td>1</td>\n",
       "      <td>2356</td>\n",
       "    </tr>\n",
       "  </tbody>\n",
       "</table>\n",
       "<p>957 rows × 5 columns</p>\n",
       "</div>"
      ],
      "text/plain": [
       "               Datetime  Actual    Forecast_Horizon  Forecast_Step  Predicted\n",
       "0   2018-03-09 20:00:00   345.0 2018-03-10 00:00:00              1        808\n",
       "1   2018-03-09 20:00:00   225.0 2018-03-10 04:00:00              2        452\n",
       "2   2018-03-09 20:00:00  1213.0 2018-03-10 08:00:00              3       1393\n",
       "3   2018-03-09 20:00:00  2284.0 2018-03-10 12:00:00              4       2267\n",
       "4   2018-03-09 20:00:00  2256.0 2018-03-10 16:00:00              5       2419\n",
       "..                  ...     ...                 ...            ...        ...\n",
       "952 2018-04-05 08:00:00  3644.0 2018-04-05 16:00:00              2       3597\n",
       "953 2018-04-05 08:00:00  2634.0 2018-04-05 20:00:00              3       2562\n",
       "954 2018-04-05 12:00:00  3644.0 2018-04-05 16:00:00              1       3454\n",
       "955 2018-04-05 12:00:00  2634.0 2018-04-05 20:00:00              2       2641\n",
       "956 2018-04-05 16:00:00  2634.0 2018-04-05 20:00:00              1       2356\n",
       "\n",
       "[957 rows x 5 columns]"
      ]
     },
     "execution_count": 10,
     "metadata": {},
     "output_type": "execute_result"
    }
   ],
   "source": [
    "forecasts"
   ]
  },
  {
   "cell_type": "code",
   "execution_count": 11,
   "metadata": {},
   "outputs": [
    {
     "data": {
      "text/html": [
       "<div>\n",
       "<style scoped>\n",
       "    .dataframe tbody tr th:only-of-type {\n",
       "        vertical-align: middle;\n",
       "    }\n",
       "\n",
       "    .dataframe tbody tr th {\n",
       "        vertical-align: top;\n",
       "    }\n",
       "\n",
       "    .dataframe thead th {\n",
       "        text-align: right;\n",
       "    }\n",
       "</style>\n",
       "<table border=\"1\" class=\"dataframe\">\n",
       "  <thead>\n",
       "    <tr style=\"text-align: right;\">\n",
       "      <th></th>\n",
       "      <th>General</th>\n",
       "      <th>Horizon_step_1</th>\n",
       "      <th>Horizon_step_2</th>\n",
       "      <th>Horizon_step_3</th>\n",
       "      <th>Horizon_step_4</th>\n",
       "      <th>Horizon_step_5</th>\n",
       "      <th>Horizon_step_6</th>\n",
       "    </tr>\n",
       "  </thead>\n",
       "  <tbody>\n",
       "    <tr>\n",
       "      <th>MAE</th>\n",
       "      <td>262.642633</td>\n",
       "      <td>238.981481</td>\n",
       "      <td>242.559006</td>\n",
       "      <td>272.631250</td>\n",
       "      <td>274.295597</td>\n",
       "      <td>272.765823</td>\n",
       "      <td>275.484076</td>\n",
       "    </tr>\n",
       "    <tr>\n",
       "      <th>RMSE</th>\n",
       "      <td>443.394813</td>\n",
       "      <td>400.905357</td>\n",
       "      <td>432.781298</td>\n",
       "      <td>454.685186</td>\n",
       "      <td>457.748503</td>\n",
       "      <td>450.616322</td>\n",
       "      <td>461.759009</td>\n",
       "    </tr>\n",
       "    <tr>\n",
       "      <th>MAPE</th>\n",
       "      <td>0.437550</td>\n",
       "      <td>0.433371</td>\n",
       "      <td>0.394511</td>\n",
       "      <td>0.501353</td>\n",
       "      <td>0.440437</td>\n",
       "      <td>0.422305</td>\n",
       "      <td>0.433394</td>\n",
       "    </tr>\n",
       "  </tbody>\n",
       "</table>\n",
       "</div>"
      ],
      "text/plain": [
       "         General  Horizon_step_1  Horizon_step_2  Horizon_step_3  \\\n",
       "MAE   262.642633      238.981481      242.559006      272.631250   \n",
       "RMSE  443.394813      400.905357      432.781298      454.685186   \n",
       "MAPE    0.437550        0.433371        0.394511        0.501353   \n",
       "\n",
       "      Horizon_step_4  Horizon_step_5  Horizon_step_6  \n",
       "MAE       274.295597      272.765823      275.484076  \n",
       "RMSE      457.748503      450.616322      461.759009  \n",
       "MAPE        0.440437        0.422305        0.433394  "
      ]
     },
     "execution_count": 11,
     "metadata": {},
     "output_type": "execute_result"
    },
    {
     "data": {
      "image/png": "[encoded data removed]",
      "text/plain": [
       "<Figure size 432x288 with 1 Axes>"
      ]
     },
     "metadata": {
      "needs_background": "light"
     },
     "output_type": "display_data"
    }
   ],
   "source": [
    "tool.calculate_performance(forecasts, plot=True, horizon_step=2)"
   ]
  },
  {
   "cell_type": "code",
   "execution_count": 4,
   "metadata": {},
   "outputs": [
    {
     "name": "stdout",
     "output_type": "stream",
     "text": [
      "Loaded forecaster arima_forecaster\n"
     ]
    }
   ],
   "source": [
    "new_tool = ft.ForecasterTool()\n",
    "new_tool.load_forecaster('arima_forecaster')"
   ]
  },
  {
   "cell_type": "code",
   "execution_count": 5,
   "metadata": {},
   "outputs": [
    {
     "data": {
      "text/html": [
       "<div>\n",
       "<style scoped>\n",
       "    .dataframe tbody tr th:only-of-type {\n",
       "        vertical-align: middle;\n",
       "    }\n",
       "\n",
       "    .dataframe tbody tr th {\n",
       "        vertical-align: top;\n",
       "    }\n",
       "\n",
       "    .dataframe thead th {\n",
       "        text-align: right;\n",
       "    }\n",
       "</style>\n",
       "<table border=\"1\" class=\"dataframe\">\n",
       "  <thead>\n",
       "    <tr style=\"text-align: right;\">\n",
       "      <th></th>\n",
       "      <th>Datetime</th>\n",
       "      <th>Actual</th>\n",
       "      <th>Forecast_Horizon</th>\n",
       "      <th>Forecast_Step</th>\n",
       "      <th>Predicted</th>\n",
       "    </tr>\n",
       "  </thead>\n",
       "  <tbody>\n",
       "    <tr>\n",
       "      <th>0</th>\n",
       "      <td>2018-03-06 00:00:00</td>\n",
       "      <td>741.0</td>\n",
       "      <td>2018-03-06 04:00:00</td>\n",
       "      <td>1</td>\n",
       "      <td>1560</td>\n",
       "    </tr>\n",
       "    <tr>\n",
       "      <th>1</th>\n",
       "      <td>2018-03-06 00:00:00</td>\n",
       "      <td>2995.0</td>\n",
       "      <td>2018-03-06 08:00:00</td>\n",
       "      <td>2</td>\n",
       "      <td>2606</td>\n",
       "    </tr>\n",
       "    <tr>\n",
       "      <th>2</th>\n",
       "      <td>2018-03-06 00:00:00</td>\n",
       "      <td>3547.0</td>\n",
       "      <td>2018-03-06 12:00:00</td>\n",
       "      <td>3</td>\n",
       "      <td>3542</td>\n",
       "    </tr>\n",
       "    <tr>\n",
       "      <th>3</th>\n",
       "      <td>2018-03-06 00:00:00</td>\n",
       "      <td>4199.0</td>\n",
       "      <td>2018-03-06 16:00:00</td>\n",
       "      <td>4</td>\n",
       "      <td>3253</td>\n",
       "    </tr>\n",
       "    <tr>\n",
       "      <th>4</th>\n",
       "      <td>2018-03-06 00:00:00</td>\n",
       "      <td>2715.0</td>\n",
       "      <td>2018-03-06 20:00:00</td>\n",
       "      <td>5</td>\n",
       "      <td>2255</td>\n",
       "    </tr>\n",
       "    <tr>\n",
       "      <th>...</th>\n",
       "      <td>...</td>\n",
       "      <td>...</td>\n",
       "      <td>...</td>\n",
       "      <td>...</td>\n",
       "      <td>...</td>\n",
       "    </tr>\n",
       "    <tr>\n",
       "      <th>1126</th>\n",
       "      <td>2018-04-06 08:00:00</td>\n",
       "      <td>3613.0</td>\n",
       "      <td>2018-04-06 16:00:00</td>\n",
       "      <td>2</td>\n",
       "      <td>3585</td>\n",
       "    </tr>\n",
       "    <tr>\n",
       "      <th>1127</th>\n",
       "      <td>2018-04-06 08:00:00</td>\n",
       "      <td>2437.0</td>\n",
       "      <td>2018-04-06 20:00:00</td>\n",
       "      <td>3</td>\n",
       "      <td>2720</td>\n",
       "    </tr>\n",
       "    <tr>\n",
       "      <th>1128</th>\n",
       "      <td>2018-04-06 12:00:00</td>\n",
       "      <td>3613.0</td>\n",
       "      <td>2018-04-06 16:00:00</td>\n",
       "      <td>1</td>\n",
       "      <td>3465</td>\n",
       "    </tr>\n",
       "    <tr>\n",
       "      <th>1129</th>\n",
       "      <td>2018-04-06 12:00:00</td>\n",
       "      <td>2437.0</td>\n",
       "      <td>2018-04-06 20:00:00</td>\n",
       "      <td>2</td>\n",
       "      <td>2640</td>\n",
       "    </tr>\n",
       "    <tr>\n",
       "      <th>1130</th>\n",
       "      <td>2018-04-06 16:00:00</td>\n",
       "      <td>2437.0</td>\n",
       "      <td>2018-04-06 20:00:00</td>\n",
       "      <td>1</td>\n",
       "      <td>2714</td>\n",
       "    </tr>\n",
       "  </tbody>\n",
       "</table>\n",
       "<p>1131 rows × 5 columns</p>\n",
       "</div>"
      ],
      "text/plain": [
       "                Datetime  Actual    Forecast_Horizon  Forecast_Step  Predicted\n",
       "0    2018-03-06 00:00:00   741.0 2018-03-06 04:00:00              1       1560\n",
       "1    2018-03-06 00:00:00  2995.0 2018-03-06 08:00:00              2       2606\n",
       "2    2018-03-06 00:00:00  3547.0 2018-03-06 12:00:00              3       3542\n",
       "3    2018-03-06 00:00:00  4199.0 2018-03-06 16:00:00              4       3253\n",
       "4    2018-03-06 00:00:00  2715.0 2018-03-06 20:00:00              5       2255\n",
       "...                  ...     ...                 ...            ...        ...\n",
       "1126 2018-04-06 08:00:00  3613.0 2018-04-06 16:00:00              2       3585\n",
       "1127 2018-04-06 08:00:00  2437.0 2018-04-06 20:00:00              3       2720\n",
       "1128 2018-04-06 12:00:00  3613.0 2018-04-06 16:00:00              1       3465\n",
       "1129 2018-04-06 12:00:00  2437.0 2018-04-06 20:00:00              2       2640\n",
       "1130 2018-04-06 16:00:00  2437.0 2018-04-06 20:00:00              1       2714\n",
       "\n",
       "[1131 rows x 5 columns]"
      ]
     },
     "execution_count": 5,
     "metadata": {},
     "output_type": "execute_result"
    }
   ],
   "source": [
    "new_tool.test_forecast"
   ]
  },
  {
   "cell_type": "code",
   "execution_count": null,
   "metadata": {},
   "outputs": [],
   "source": []
  }
 ],
 "metadata": {
  "kernelspec": {
   "display_name": "Python 3 (ipykernel)",
   "language": "python",
   "name": "python3"
  },
  "language_info": {
   "codemirror_mode": {
    "name": "ipython",
    "version": 3
   },
   "file_extension": ".py",
   "mimetype": "text/x-python",
   "name": "python",
   "nbconvert_exporter": "python",
   "pygments_lexer": "ipython3",
   "version": "3.8.5"
  }
 },
 "nbformat": 4,
 "nbformat_minor": 4
}
