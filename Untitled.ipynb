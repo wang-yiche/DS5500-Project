{
 "cells": [
  {
   "cell_type": "code",
   "execution_count": 1,
   "metadata": {},
   "outputs": [],
   "source": [
    "import pandas as pd\n",
    "import seaborn as sns\n",
    "import matplotlib.pyplot as plt"
   ]
  },
  {
   "cell_type": "code",
   "execution_count": 2,
   "metadata": {},
   "outputs": [],
   "source": [
    "file_path = 'C:/Users/11941/Downloads/DS5500/NYCData/'"
   ]
  },
  {
   "cell_type": "code",
   "execution_count": 3,
   "metadata": {},
   "outputs": [
    {
     "name": "stderr",
     "output_type": "stream",
     "text": [
      "C:\\Users\\11941\\anaconda3\\lib\\site-packages\\statsmodels\\compat\\pandas.py:61: FutureWarning: pandas.Int64Index is deprecated and will be removed from pandas in a future version. Use pandas.Index with the appropriate dtype instead.\n",
      "  from pandas import Int64Index as NumericIndex\n"
     ]
    }
   ],
   "source": [
    "import forecaster_tool.forecast_tool as ft"
   ]
  },
  {
   "cell_type": "code",
   "execution_count": 4,
   "metadata": {},
   "outputs": [],
   "source": [
    "tool = ft.ForecasterTool()"
   ]
  },
  {
   "cell_type": "code",
   "execution_count": 5,
   "metadata": {},
   "outputs": [],
   "source": [
    "data = tool.load_data(file_path + 'NYC_subway_traffic_2017-2021.csv', unique_id = 1, \n",
    "                      target = 'Entries',features = [], freq = '4h')"
   ]
  },
  {
   "cell_type": "code",
   "execution_count": 6,
   "metadata": {},
   "outputs": [
    {
     "data": {
      "text/html": [
       "<div>\n",
       "<style scoped>\n",
       "    .dataframe tbody tr th:only-of-type {\n",
       "        vertical-align: middle;\n",
       "    }\n",
       "\n",
       "    .dataframe tbody tr th {\n",
       "        vertical-align: top;\n",
       "    }\n",
       "\n",
       "    .dataframe thead th {\n",
       "        text-align: right;\n",
       "    }\n",
       "</style>\n",
       "<table border=\"1\" class=\"dataframe\">\n",
       "  <thead>\n",
       "    <tr style=\"text-align: right;\">\n",
       "      <th></th>\n",
       "      <th>Entries</th>\n",
       "    </tr>\n",
       "  </thead>\n",
       "  <tbody>\n",
       "    <tr>\n",
       "      <th>2017-02-04 04:00:00</th>\n",
       "      <td>403.0</td>\n",
       "    </tr>\n",
       "    <tr>\n",
       "      <th>2017-02-04 08:00:00</th>\n",
       "      <td>1284.0</td>\n",
       "    </tr>\n",
       "    <tr>\n",
       "      <th>2017-02-04 12:00:00</th>\n",
       "      <td>2316.0</td>\n",
       "    </tr>\n",
       "    <tr>\n",
       "      <th>2017-02-04 16:00:00</th>\n",
       "      <td>2383.0</td>\n",
       "    </tr>\n",
       "    <tr>\n",
       "      <th>2017-02-04 20:00:00</th>\n",
       "      <td>1526.0</td>\n",
       "    </tr>\n",
       "    <tr>\n",
       "      <th>...</th>\n",
       "      <td>...</td>\n",
       "    </tr>\n",
       "    <tr>\n",
       "      <th>2021-08-13 00:00:00</th>\n",
       "      <td>138.0</td>\n",
       "    </tr>\n",
       "    <tr>\n",
       "      <th>2021-08-13 04:00:00</th>\n",
       "      <td>223.0</td>\n",
       "    </tr>\n",
       "    <tr>\n",
       "      <th>2021-08-13 08:00:00</th>\n",
       "      <td>1062.0</td>\n",
       "    </tr>\n",
       "    <tr>\n",
       "      <th>2021-08-13 12:00:00</th>\n",
       "      <td>1165.0</td>\n",
       "    </tr>\n",
       "    <tr>\n",
       "      <th>2021-08-13 16:00:00</th>\n",
       "      <td>1748.0</td>\n",
       "    </tr>\n",
       "  </tbody>\n",
       "</table>\n",
       "<p>9910 rows × 1 columns</p>\n",
       "</div>"
      ],
      "text/plain": [
       "                     Entries\n",
       "2017-02-04 04:00:00    403.0\n",
       "2017-02-04 08:00:00   1284.0\n",
       "2017-02-04 12:00:00   2316.0\n",
       "2017-02-04 16:00:00   2383.0\n",
       "2017-02-04 20:00:00   1526.0\n",
       "...                      ...\n",
       "2021-08-13 00:00:00    138.0\n",
       "2021-08-13 04:00:00    223.0\n",
       "2021-08-13 08:00:00   1062.0\n",
       "2021-08-13 12:00:00   1165.0\n",
       "2021-08-13 16:00:00   1748.0\n",
       "\n",
       "[9910 rows x 1 columns]"
      ]
     },
     "execution_count": 6,
     "metadata": {},
     "output_type": "execute_result"
    }
   ],
   "source": [
    "data"
   ]
  },
  {
   "cell_type": "code",
   "execution_count": 7,
   "metadata": {},
   "outputs": [],
   "source": [
    "train, test = tool.train_test_split(train_start_date='2017-02-04', train_end_date='2017-03-04',\n",
    "                         test_start_date='2017-03-05', test_end_date='2017-03-08')"
   ]
  },
  {
   "cell_type": "code",
   "execution_count": 8,
   "metadata": {},
   "outputs": [
    {
     "data": {
      "text/plain": [
       "<forecaster_tool.forecasters.Arima.ArimaModel at 0x275b93e0d30>"
      ]
     },
     "execution_count": 8,
     "metadata": {},
     "output_type": "execute_result"
    }
   ],
   "source": [
    "tool.create_forecaster('Arima', forecast_steps = 6)"
   ]
  },
  {
   "cell_type": "code",
   "execution_count": 9,
   "metadata": {},
   "outputs": [],
   "source": [
    "d, model = tool.fit()"
   ]
  },
  {
   "cell_type": "code",
   "execution_count": 10,
   "metadata": {},
   "outputs": [
    {
     "data": {
      "text/html": [
       "<div>\n",
       "<style scoped>\n",
       "    .dataframe tbody tr th:only-of-type {\n",
       "        vertical-align: middle;\n",
       "    }\n",
       "\n",
       "    .dataframe tbody tr th {\n",
       "        vertical-align: top;\n",
       "    }\n",
       "\n",
       "    .dataframe thead th {\n",
       "        text-align: right;\n",
       "    }\n",
       "</style>\n",
       "<table border=\"1\" class=\"dataframe\">\n",
       "  <thead>\n",
       "    <tr style=\"text-align: right;\">\n",
       "      <th></th>\n",
       "      <th>Datetime</th>\n",
       "      <th>Actual</th>\n",
       "      <th>Forecast_Horizon</th>\n",
       "      <th>Forecast_Step</th>\n",
       "      <th>Predicted</th>\n",
       "    </tr>\n",
       "  </thead>\n",
       "  <tbody>\n",
       "    <tr>\n",
       "      <th>0</th>\n",
       "      <td>2017-03-05 00:00:00</td>\n",
       "      <td>199.0</td>\n",
       "      <td>2017-03-05 04:00:00</td>\n",
       "      <td>1</td>\n",
       "      <td>658</td>\n",
       "    </tr>\n",
       "    <tr>\n",
       "      <th>1</th>\n",
       "      <td>2017-03-05 00:00:00</td>\n",
       "      <td>913.0</td>\n",
       "      <td>2017-03-05 08:00:00</td>\n",
       "      <td>2</td>\n",
       "      <td>1959</td>\n",
       "    </tr>\n",
       "    <tr>\n",
       "      <th>2</th>\n",
       "      <td>2017-03-05 00:00:00</td>\n",
       "      <td>1771.0</td>\n",
       "      <td>2017-03-05 12:00:00</td>\n",
       "      <td>3</td>\n",
       "      <td>2513</td>\n",
       "    </tr>\n",
       "    <tr>\n",
       "      <th>3</th>\n",
       "      <td>2017-03-05 00:00:00</td>\n",
       "      <td>1723.0</td>\n",
       "      <td>2017-03-05 16:00:00</td>\n",
       "      <td>4</td>\n",
       "      <td>2279</td>\n",
       "    </tr>\n",
       "    <tr>\n",
       "      <th>4</th>\n",
       "      <td>2017-03-05 00:00:00</td>\n",
       "      <td>1068.0</td>\n",
       "      <td>2017-03-05 20:00:00</td>\n",
       "      <td>5</td>\n",
       "      <td>1939</td>\n",
       "    </tr>\n",
       "    <tr>\n",
       "      <th>5</th>\n",
       "      <td>2017-03-05 00:00:00</td>\n",
       "      <td>210.0</td>\n",
       "      <td>2017-03-06 00:00:00</td>\n",
       "      <td>6</td>\n",
       "      <td>1859</td>\n",
       "    </tr>\n",
       "    <tr>\n",
       "      <th>6</th>\n",
       "      <td>2017-03-05 04:00:00</td>\n",
       "      <td>913.0</td>\n",
       "      <td>2017-03-05 08:00:00</td>\n",
       "      <td>1</td>\n",
       "      <td>1332</td>\n",
       "    </tr>\n",
       "    <tr>\n",
       "      <th>7</th>\n",
       "      <td>2017-03-05 04:00:00</td>\n",
       "      <td>1771.0</td>\n",
       "      <td>2017-03-05 12:00:00</td>\n",
       "      <td>2</td>\n",
       "      <td>2379</td>\n",
       "    </tr>\n",
       "    <tr>\n",
       "      <th>8</th>\n",
       "      <td>2017-03-05 04:00:00</td>\n",
       "      <td>1723.0</td>\n",
       "      <td>2017-03-05 16:00:00</td>\n",
       "      <td>3</td>\n",
       "      <td>2460</td>\n",
       "    </tr>\n",
       "    <tr>\n",
       "      <th>9</th>\n",
       "      <td>2017-03-05 04:00:00</td>\n",
       "      <td>1068.0</td>\n",
       "      <td>2017-03-05 20:00:00</td>\n",
       "      <td>4</td>\n",
       "      <td>2084</td>\n",
       "    </tr>\n",
       "  </tbody>\n",
       "</table>\n",
       "</div>"
      ],
      "text/plain": [
       "             Datetime  Actual    Forecast_Horizon  Forecast_Step  Predicted\n",
       "0 2017-03-05 00:00:00   199.0 2017-03-05 04:00:00              1        658\n",
       "1 2017-03-05 00:00:00   913.0 2017-03-05 08:00:00              2       1959\n",
       "2 2017-03-05 00:00:00  1771.0 2017-03-05 12:00:00              3       2513\n",
       "3 2017-03-05 00:00:00  1723.0 2017-03-05 16:00:00              4       2279\n",
       "4 2017-03-05 00:00:00  1068.0 2017-03-05 20:00:00              5       1939\n",
       "5 2017-03-05 00:00:00   210.0 2017-03-06 00:00:00              6       1859\n",
       "6 2017-03-05 04:00:00   913.0 2017-03-05 08:00:00              1       1332\n",
       "7 2017-03-05 04:00:00  1771.0 2017-03-05 12:00:00              2       2379\n",
       "8 2017-03-05 04:00:00  1723.0 2017-03-05 16:00:00              3       2460\n",
       "9 2017-03-05 04:00:00  1068.0 2017-03-05 20:00:00              4       2084"
      ]
     },
     "execution_count": 10,
     "metadata": {},
     "output_type": "execute_result"
    }
   ],
   "source": [
    "d.head(10)"
   ]
  },
  {
   "cell_type": "code",
   "execution_count": 11,
   "metadata": {},
   "outputs": [
    {
     "data": {
      "text/plain": [
       "ARIMA(order=(2, 0, 1), scoring_args={}, suppress_warnings=True)"
      ]
     },
     "execution_count": 11,
     "metadata": {},
     "output_type": "execute_result"
    }
   ],
   "source": [
    "model"
   ]
  },
  {
   "cell_type": "code",
   "execution_count": 12,
   "metadata": {},
   "outputs": [],
   "source": [
    "df = d[d['Forecast_Step'] == 1]"
   ]
  },
  {
   "cell_type": "code",
   "execution_count": 13,
   "metadata": {},
   "outputs": [
    {
     "data": {
      "image/png": "[encoded data removed]",
      "text/plain": [
       "<Figure size 432x288 with 1 Axes>"
      ]
     },
     "metadata": {
      "needs_background": "light"
     },
     "output_type": "display_data"
    }
   ],
   "source": [
    "df.plot(x=\"Forecast_Horizon\", y=[\"Actual\", \"Predicted\"])\n",
    "plt.show()"
   ]
  },
  {
   "cell_type": "code",
   "execution_count": 14,
   "metadata": {},
   "outputs": [
    {
     "data": {
      "text/html": [
       "<div>\n",
       "<style scoped>\n",
       "    .dataframe tbody tr th:only-of-type {\n",
       "        vertical-align: middle;\n",
       "    }\n",
       "\n",
       "    .dataframe tbody tr th {\n",
       "        vertical-align: top;\n",
       "    }\n",
       "\n",
       "    .dataframe thead th {\n",
       "        text-align: right;\n",
       "    }\n",
       "</style>\n",
       "<table border=\"1\" class=\"dataframe\">\n",
       "  <thead>\n",
       "    <tr style=\"text-align: right;\">\n",
       "      <th></th>\n",
       "      <th>Datetime</th>\n",
       "      <th>Actual</th>\n",
       "      <th>Forecast_Horizon</th>\n",
       "      <th>Forecast_Step</th>\n",
       "      <th>Predicted</th>\n",
       "    </tr>\n",
       "  </thead>\n",
       "  <tbody>\n",
       "    <tr>\n",
       "      <th>0</th>\n",
       "      <td>2017-03-05 00:00:00</td>\n",
       "      <td>199.0</td>\n",
       "      <td>2017-03-05 04:00:00</td>\n",
       "      <td>1</td>\n",
       "      <td>658</td>\n",
       "    </tr>\n",
       "    <tr>\n",
       "      <th>1</th>\n",
       "      <td>2017-03-05 00:00:00</td>\n",
       "      <td>913.0</td>\n",
       "      <td>2017-03-05 08:00:00</td>\n",
       "      <td>2</td>\n",
       "      <td>1959</td>\n",
       "    </tr>\n",
       "    <tr>\n",
       "      <th>2</th>\n",
       "      <td>2017-03-05 00:00:00</td>\n",
       "      <td>1771.0</td>\n",
       "      <td>2017-03-05 12:00:00</td>\n",
       "      <td>3</td>\n",
       "      <td>2513</td>\n",
       "    </tr>\n",
       "    <tr>\n",
       "      <th>3</th>\n",
       "      <td>2017-03-05 00:00:00</td>\n",
       "      <td>1723.0</td>\n",
       "      <td>2017-03-05 16:00:00</td>\n",
       "      <td>4</td>\n",
       "      <td>2279</td>\n",
       "    </tr>\n",
       "    <tr>\n",
       "      <th>4</th>\n",
       "      <td>2017-03-05 00:00:00</td>\n",
       "      <td>1068.0</td>\n",
       "      <td>2017-03-05 20:00:00</td>\n",
       "      <td>5</td>\n",
       "      <td>1939</td>\n",
       "    </tr>\n",
       "    <tr>\n",
       "      <th>...</th>\n",
       "      <td>...</td>\n",
       "      <td>...</td>\n",
       "      <td>...</td>\n",
       "      <td>...</td>\n",
       "      <td>...</td>\n",
       "    </tr>\n",
       "    <tr>\n",
       "      <th>118</th>\n",
       "      <td>2017-03-08 08:00:00</td>\n",
       "      <td>4199.0</td>\n",
       "      <td>2017-03-08 16:00:00</td>\n",
       "      <td>2</td>\n",
       "      <td>2063</td>\n",
       "    </tr>\n",
       "    <tr>\n",
       "      <th>119</th>\n",
       "      <td>2017-03-08 08:00:00</td>\n",
       "      <td>3140.0</td>\n",
       "      <td>2017-03-08 20:00:00</td>\n",
       "      <td>3</td>\n",
       "      <td>1586</td>\n",
       "    </tr>\n",
       "    <tr>\n",
       "      <th>120</th>\n",
       "      <td>2017-03-08 12:00:00</td>\n",
       "      <td>4199.0</td>\n",
       "      <td>2017-03-08 16:00:00</td>\n",
       "      <td>1</td>\n",
       "      <td>2813</td>\n",
       "    </tr>\n",
       "    <tr>\n",
       "      <th>121</th>\n",
       "      <td>2017-03-08 12:00:00</td>\n",
       "      <td>3140.0</td>\n",
       "      <td>2017-03-08 20:00:00</td>\n",
       "      <td>2</td>\n",
       "      <td>1745</td>\n",
       "    </tr>\n",
       "    <tr>\n",
       "      <th>122</th>\n",
       "      <td>2017-03-08 16:00:00</td>\n",
       "      <td>3140.0</td>\n",
       "      <td>2017-03-08 20:00:00</td>\n",
       "      <td>1</td>\n",
       "      <td>3648</td>\n",
       "    </tr>\n",
       "  </tbody>\n",
       "</table>\n",
       "<p>123 rows × 5 columns</p>\n",
       "</div>"
      ],
      "text/plain": [
       "               Datetime  Actual    Forecast_Horizon  Forecast_Step  Predicted\n",
       "0   2017-03-05 00:00:00   199.0 2017-03-05 04:00:00              1        658\n",
       "1   2017-03-05 00:00:00   913.0 2017-03-05 08:00:00              2       1959\n",
       "2   2017-03-05 00:00:00  1771.0 2017-03-05 12:00:00              3       2513\n",
       "3   2017-03-05 00:00:00  1723.0 2017-03-05 16:00:00              4       2279\n",
       "4   2017-03-05 00:00:00  1068.0 2017-03-05 20:00:00              5       1939\n",
       "..                  ...     ...                 ...            ...        ...\n",
       "118 2017-03-08 08:00:00  4199.0 2017-03-08 16:00:00              2       2063\n",
       "119 2017-03-08 08:00:00  3140.0 2017-03-08 20:00:00              3       1586\n",
       "120 2017-03-08 12:00:00  4199.0 2017-03-08 16:00:00              1       2813\n",
       "121 2017-03-08 12:00:00  3140.0 2017-03-08 20:00:00              2       1745\n",
       "122 2017-03-08 16:00:00  3140.0 2017-03-08 20:00:00              1       3648\n",
       "\n",
       "[123 rows x 5 columns]"
      ]
     },
     "execution_count": 14,
     "metadata": {},
     "output_type": "execute_result"
    }
   ],
   "source": [
    "d"
   ]
  },
  {
   "cell_type": "code",
   "execution_count": 16,
   "metadata": {},
   "outputs": [
    {
     "name": "stdout",
     "output_type": "stream",
     "text": [
      "2.132720675204041\n"
     ]
    },
    {
     "data": {
      "text/plain": [
       "698.304347826087"
      ]
     },
     "execution_count": 16,
     "metadata": {},
     "output_type": "execute_result"
    }
   ],
   "source": [
    "from sklearn.metrics import mean_absolute_percentage_error, mean_squared_error, mean_absolute_error\n",
    "y_true = df['Actual']\n",
    "y_pred = df['Predicted']\n",
    "print(mean_absolute_percentage_error(y_true, y_pred))\n",
    "mean_squared_error(y_true, y_pred, squared=False)\n",
    "mean_absolute_error(y_true, y_pred)"
   ]
  },
  {
   "cell_type": "code",
   "execution_count": null,
   "metadata": {},
   "outputs": [],
   "source": []
  }
 ],
 "metadata": {
  "kernelspec": {
   "display_name": "Python 3 (ipykernel)",
   "language": "python",
   "name": "python3"
  },
  "language_info": {
   "codemirror_mode": {
    "name": "ipython",
    "version": 3
   },
   "file_extension": ".py",
   "mimetype": "text/x-python",
   "name": "python",
   "nbconvert_exporter": "python",
   "pygments_lexer": "ipython3",
   "version": "3.8.5"
  }
 },
 "nbformat": 4,
 "nbformat_minor": 4
}
