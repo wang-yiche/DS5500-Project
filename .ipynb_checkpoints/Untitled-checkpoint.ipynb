{
 "cells": [
  {
   "cell_type": "code",
   "execution_count": 1,
   "metadata": {},
   "outputs": [],
   "source": [
    "import pandas as pd\n",
    "import seaborn as sns\n",
    "import matplotlib.pyplot as plt"
   ]
  },
  {
   "cell_type": "code",
   "execution_count": 2,
   "metadata": {},
   "outputs": [],
   "source": [
    "file_path = 'C:/Users/11941/Downloads/DS5500/NYCData/'"
   ]
  },
  {
   "cell_type": "code",
   "execution_count": 4,
   "metadata": {},
   "outputs": [],
   "source": [
    "import forecaster_tool.forecast_tool as ft"
   ]
  },
  {
   "cell_type": "code",
   "execution_count": 5,
   "metadata": {},
   "outputs": [],
   "source": [
    "tool = ft.ForecasterTool()"
   ]
  },
  {
   "cell_type": "code",
   "execution_count": 6,
   "metadata": {},
   "outputs": [],
   "source": [
    "data = tool.load_data(file_path + 'NYC_subway_traffic_2017-2021.csv', 1, \n",
    "                      target = 'Entries',features = [], freq = '4h')"
   ]
  },
  {
   "cell_type": "code",
   "execution_count": 7,
   "metadata": {},
   "outputs": [
    {
     "data": {
      "text/html": [
       "<div>\n",
       "<style scoped>\n",
       "    .dataframe tbody tr th:only-of-type {\n",
       "        vertical-align: middle;\n",
       "    }\n",
       "\n",
       "    .dataframe tbody tr th {\n",
       "        vertical-align: top;\n",
       "    }\n",
       "\n",
       "    .dataframe thead th {\n",
       "        text-align: right;\n",
       "    }\n",
       "</style>\n",
       "<table border=\"1\" class=\"dataframe\">\n",
       "  <thead>\n",
       "    <tr style=\"text-align: right;\">\n",
       "      <th></th>\n",
       "      <th>Entries</th>\n",
       "    </tr>\n",
       "  </thead>\n",
       "  <tbody>\n",
       "    <tr>\n",
       "      <th>2017-02-04 04:00:00</th>\n",
       "      <td>403.0</td>\n",
       "    </tr>\n",
       "    <tr>\n",
       "      <th>2017-02-04 08:00:00</th>\n",
       "      <td>1284.0</td>\n",
       "    </tr>\n",
       "    <tr>\n",
       "      <th>2017-02-04 12:00:00</th>\n",
       "      <td>2316.0</td>\n",
       "    </tr>\n",
       "    <tr>\n",
       "      <th>2017-02-04 16:00:00</th>\n",
       "      <td>2383.0</td>\n",
       "    </tr>\n",
       "    <tr>\n",
       "      <th>2017-02-04 20:00:00</th>\n",
       "      <td>1526.0</td>\n",
       "    </tr>\n",
       "    <tr>\n",
       "      <th>...</th>\n",
       "      <td>...</td>\n",
       "    </tr>\n",
       "    <tr>\n",
       "      <th>2021-08-13 00:00:00</th>\n",
       "      <td>138.0</td>\n",
       "    </tr>\n",
       "    <tr>\n",
       "      <th>2021-08-13 04:00:00</th>\n",
       "      <td>223.0</td>\n",
       "    </tr>\n",
       "    <tr>\n",
       "      <th>2021-08-13 08:00:00</th>\n",
       "      <td>1062.0</td>\n",
       "    </tr>\n",
       "    <tr>\n",
       "      <th>2021-08-13 12:00:00</th>\n",
       "      <td>1165.0</td>\n",
       "    </tr>\n",
       "    <tr>\n",
       "      <th>2021-08-13 16:00:00</th>\n",
       "      <td>1748.0</td>\n",
       "    </tr>\n",
       "  </tbody>\n",
       "</table>\n",
       "<p>9910 rows × 1 columns</p>\n",
       "</div>"
      ],
      "text/plain": [
       "                     Entries\n",
       "2017-02-04 04:00:00    403.0\n",
       "2017-02-04 08:00:00   1284.0\n",
       "2017-02-04 12:00:00   2316.0\n",
       "2017-02-04 16:00:00   2383.0\n",
       "2017-02-04 20:00:00   1526.0\n",
       "...                      ...\n",
       "2021-08-13 00:00:00    138.0\n",
       "2021-08-13 04:00:00    223.0\n",
       "2021-08-13 08:00:00   1062.0\n",
       "2021-08-13 12:00:00   1165.0\n",
       "2021-08-13 16:00:00   1748.0\n",
       "\n",
       "[9910 rows x 1 columns]"
      ]
     },
     "execution_count": 7,
     "metadata": {},
     "output_type": "execute_result"
    }
   ],
   "source": [
    "data"
   ]
  },
  {
   "cell_type": "code",
   "execution_count": 8,
   "metadata": {},
   "outputs": [
    {
     "data": {
      "text/plain": [
       "(                     Entries\n",
       " 2017-02-04 04:00:00    403.0\n",
       " 2017-02-04 08:00:00   1284.0\n",
       " 2017-02-04 12:00:00   2316.0\n",
       " 2017-02-04 16:00:00   2383.0\n",
       " 2017-02-04 20:00:00   1526.0\n",
       " ...                      ...\n",
       " 2020-04-05 04:00:00     63.0\n",
       " 2020-04-05 08:00:00    231.0\n",
       " 2020-04-05 12:00:00    169.0\n",
       " 2020-04-05 16:00:00    340.0\n",
       " 2020-04-05 20:00:00    232.0\n",
       " \n",
       " [6941 rows x 1 columns],\n",
       "                      Entries\n",
       " 2020-04-06 00:00:00    105.0\n",
       " 2020-04-06 04:00:00    108.0\n",
       " 2020-04-06 08:00:00    409.0\n",
       " 2020-04-06 12:00:00    370.0\n",
       " 2020-04-06 16:00:00    712.0\n",
       " ...                      ...\n",
       " 2021-08-13 00:00:00    138.0\n",
       " 2021-08-13 04:00:00    223.0\n",
       " 2021-08-13 08:00:00   1062.0\n",
       " 2021-08-13 12:00:00   1165.0\n",
       " 2021-08-13 16:00:00   1748.0\n",
       " \n",
       " [2969 rows x 1 columns])"
      ]
     },
     "execution_count": 8,
     "metadata": {},
     "output_type": "execute_result"
    }
   ],
   "source": [
    "tool.train_test_split(test_ratio=0.3)"
   ]
  },
  {
   "cell_type": "code",
   "execution_count": 9,
   "metadata": {},
   "outputs": [
    {
     "data": {
      "text/plain": [
       "<forecaster_tool.forecasters.SampleForecaster.SampleForecaster at 0x27ea49fa760>"
      ]
     },
     "execution_count": 9,
     "metadata": {},
     "output_type": "execute_result"
    }
   ],
   "source": [
    "tool.create_forecaster('SampleForecaster', forecast_steps = 6,arg2 = 1)"
   ]
  },
  {
   "cell_type": "code",
   "execution_count": 10,
   "metadata": {},
   "outputs": [],
   "source": [
    "d = tool.fit()"
   ]
  },
  {
   "cell_type": "code",
   "execution_count": 12,
   "metadata": {},
   "outputs": [
    {
     "data": {
      "text/html": [
       "<div>\n",
       "<style scoped>\n",
       "    .dataframe tbody tr th:only-of-type {\n",
       "        vertical-align: middle;\n",
       "    }\n",
       "\n",
       "    .dataframe tbody tr th {\n",
       "        vertical-align: top;\n",
       "    }\n",
       "\n",
       "    .dataframe thead th {\n",
       "        text-align: right;\n",
       "    }\n",
       "</style>\n",
       "<table border=\"1\" class=\"dataframe\">\n",
       "  <thead>\n",
       "    <tr style=\"text-align: right;\">\n",
       "      <th></th>\n",
       "      <th>Datetime</th>\n",
       "      <th>Actual</th>\n",
       "      <th>Forecast_Horizon</th>\n",
       "      <th>Forecast_Step</th>\n",
       "      <th>Predicted</th>\n",
       "    </tr>\n",
       "  </thead>\n",
       "  <tbody>\n",
       "    <tr>\n",
       "      <th>0</th>\n",
       "      <td>2020-04-06 00:00:00</td>\n",
       "      <td>108.0</td>\n",
       "      <td>2020-04-06 04:00:00</td>\n",
       "      <td>1</td>\n",
       "      <td>108.0</td>\n",
       "    </tr>\n",
       "    <tr>\n",
       "      <th>1</th>\n",
       "      <td>2020-04-06 00:00:00</td>\n",
       "      <td>409.0</td>\n",
       "      <td>2020-04-06 08:00:00</td>\n",
       "      <td>2</td>\n",
       "      <td>409.0</td>\n",
       "    </tr>\n",
       "    <tr>\n",
       "      <th>2</th>\n",
       "      <td>2020-04-06 00:00:00</td>\n",
       "      <td>370.0</td>\n",
       "      <td>2020-04-06 12:00:00</td>\n",
       "      <td>3</td>\n",
       "      <td>370.0</td>\n",
       "    </tr>\n",
       "    <tr>\n",
       "      <th>3</th>\n",
       "      <td>2020-04-06 00:00:00</td>\n",
       "      <td>712.0</td>\n",
       "      <td>2020-04-06 16:00:00</td>\n",
       "      <td>4</td>\n",
       "      <td>712.0</td>\n",
       "    </tr>\n",
       "    <tr>\n",
       "      <th>4</th>\n",
       "      <td>2020-04-06 00:00:00</td>\n",
       "      <td>435.0</td>\n",
       "      <td>2020-04-06 20:00:00</td>\n",
       "      <td>5</td>\n",
       "      <td>435.0</td>\n",
       "    </tr>\n",
       "    <tr>\n",
       "      <th>...</th>\n",
       "      <td>...</td>\n",
       "      <td>...</td>\n",
       "      <td>...</td>\n",
       "      <td>...</td>\n",
       "      <td>...</td>\n",
       "    </tr>\n",
       "    <tr>\n",
       "      <th>17788</th>\n",
       "      <td>2021-08-13 00:00:00</td>\n",
       "      <td>1165.0</td>\n",
       "      <td>2021-08-13 12:00:00</td>\n",
       "      <td>5</td>\n",
       "      <td>1165.0</td>\n",
       "    </tr>\n",
       "    <tr>\n",
       "      <th>17789</th>\n",
       "      <td>2021-08-13 00:00:00</td>\n",
       "      <td>1748.0</td>\n",
       "      <td>2021-08-13 16:00:00</td>\n",
       "      <td>6</td>\n",
       "      <td>1748.0</td>\n",
       "    </tr>\n",
       "    <tr>\n",
       "      <th>17790</th>\n",
       "      <td>2021-08-13 04:00:00</td>\n",
       "      <td>1165.0</td>\n",
       "      <td>2021-08-13 12:00:00</td>\n",
       "      <td>1</td>\n",
       "      <td>1165.0</td>\n",
       "    </tr>\n",
       "    <tr>\n",
       "      <th>17791</th>\n",
       "      <td>2021-08-13 04:00:00</td>\n",
       "      <td>1748.0</td>\n",
       "      <td>2021-08-13 16:00:00</td>\n",
       "      <td>2</td>\n",
       "      <td>1748.0</td>\n",
       "    </tr>\n",
       "    <tr>\n",
       "      <th>17792</th>\n",
       "      <td>2021-08-13 04:00:00</td>\n",
       "      <td>1748.0</td>\n",
       "      <td>2021-08-13 16:00:00</td>\n",
       "      <td>3</td>\n",
       "      <td>1748.0</td>\n",
       "    </tr>\n",
       "  </tbody>\n",
       "</table>\n",
       "<p>17793 rows × 5 columns</p>\n",
       "</div>"
      ],
      "text/plain": [
       "                 Datetime  Actual    Forecast_Horizon  Forecast_Step  \\\n",
       "0     2020-04-06 00:00:00   108.0 2020-04-06 04:00:00              1   \n",
       "1     2020-04-06 00:00:00   409.0 2020-04-06 08:00:00              2   \n",
       "2     2020-04-06 00:00:00   370.0 2020-04-06 12:00:00              3   \n",
       "3     2020-04-06 00:00:00   712.0 2020-04-06 16:00:00              4   \n",
       "4     2020-04-06 00:00:00   435.0 2020-04-06 20:00:00              5   \n",
       "...                   ...     ...                 ...            ...   \n",
       "17788 2021-08-13 00:00:00  1165.0 2021-08-13 12:00:00              5   \n",
       "17789 2021-08-13 00:00:00  1748.0 2021-08-13 16:00:00              6   \n",
       "17790 2021-08-13 04:00:00  1165.0 2021-08-13 12:00:00              1   \n",
       "17791 2021-08-13 04:00:00  1748.0 2021-08-13 16:00:00              2   \n",
       "17792 2021-08-13 04:00:00  1748.0 2021-08-13 16:00:00              3   \n",
       "\n",
       "       Predicted  \n",
       "0          108.0  \n",
       "1          409.0  \n",
       "2          370.0  \n",
       "3          712.0  \n",
       "4          435.0  \n",
       "...          ...  \n",
       "17788     1165.0  \n",
       "17789     1748.0  \n",
       "17790     1165.0  \n",
       "17791     1748.0  \n",
       "17792     1748.0  \n",
       "\n",
       "[17793 rows x 5 columns]"
      ]
     },
     "execution_count": 12,
     "metadata": {},
     "output_type": "execute_result"
    }
   ],
   "source": [
    "d"
   ]
  }
 ],
 "metadata": {
  "kernelspec": {
   "display_name": "Python 3",
   "language": "python",
   "name": "python3"
  },
  "language_info": {
   "codemirror_mode": {
    "name": "ipython",
    "version": 3
   },
   "file_extension": ".py",
   "mimetype": "text/x-python",
   "name": "python",
   "nbconvert_exporter": "python",
   "pygments_lexer": "ipython3",
   "version": "3.8.5"
  }
 },
 "nbformat": 4,
 "nbformat_minor": 4
}
