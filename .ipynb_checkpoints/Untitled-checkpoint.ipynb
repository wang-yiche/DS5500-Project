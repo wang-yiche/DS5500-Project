{
 "cells": [
  {
   "cell_type": "code",
   "execution_count": 1,
   "metadata": {},
   "outputs": [],
   "source": [
    "import pandas as pd\n",
    "import seaborn as sns\n",
    "import matplotlib.pyplot as plt"
   ]
  },
  {
   "cell_type": "code",
   "execution_count": 2,
   "metadata": {},
   "outputs": [],
   "source": [
    "file_path = 'C:/Users/11941/Downloads/DS5500/NYCData/'"
   ]
  },
  {
   "cell_type": "code",
   "execution_count": 3,
   "metadata": {},
   "outputs": [
    {
     "name": "stderr",
     "output_type": "stream",
     "text": [
      "C:\\Users\\11941\\anaconda3\\lib\\site-packages\\statsmodels\\compat\\pandas.py:61: FutureWarning: pandas.Int64Index is deprecated and will be removed from pandas in a future version. Use pandas.Index with the appropriate dtype instead.\n",
      "  from pandas import Int64Index as NumericIndex\n"
     ]
    }
   ],
   "source": [
    "import forecaster_tool.forecast_tool as ft"
   ]
  },
  {
   "cell_type": "code",
   "execution_count": 4,
   "metadata": {},
   "outputs": [],
   "source": [
    "tool = ft.ForecasterTool()"
   ]
  },
  {
   "cell_type": "code",
   "execution_count": 5,
   "metadata": {},
   "outputs": [],
   "source": [
    "data = tool.load_data(file_path + 'NYC_subway_traffic_2017-2021.csv', unique_id = 1, \n",
    "                      target = 'Entries',features = [], freq = '4h')"
   ]
  },
  {
   "cell_type": "code",
   "execution_count": 6,
   "metadata": {},
   "outputs": [
    {
     "data": {
      "text/html": [
       "<div>\n",
       "<style scoped>\n",
       "    .dataframe tbody tr th:only-of-type {\n",
       "        vertical-align: middle;\n",
       "    }\n",
       "\n",
       "    .dataframe tbody tr th {\n",
       "        vertical-align: top;\n",
       "    }\n",
       "\n",
       "    .dataframe thead th {\n",
       "        text-align: right;\n",
       "    }\n",
       "</style>\n",
       "<table border=\"1\" class=\"dataframe\">\n",
       "  <thead>\n",
       "    <tr style=\"text-align: right;\">\n",
       "      <th></th>\n",
       "      <th>Entries</th>\n",
       "    </tr>\n",
       "  </thead>\n",
       "  <tbody>\n",
       "    <tr>\n",
       "      <th>2017-02-04 04:00:00</th>\n",
       "      <td>403.0</td>\n",
       "    </tr>\n",
       "    <tr>\n",
       "      <th>2017-02-04 08:00:00</th>\n",
       "      <td>1284.0</td>\n",
       "    </tr>\n",
       "    <tr>\n",
       "      <th>2017-02-04 12:00:00</th>\n",
       "      <td>2316.0</td>\n",
       "    </tr>\n",
       "    <tr>\n",
       "      <th>2017-02-04 16:00:00</th>\n",
       "      <td>2383.0</td>\n",
       "    </tr>\n",
       "    <tr>\n",
       "      <th>2017-02-04 20:00:00</th>\n",
       "      <td>1526.0</td>\n",
       "    </tr>\n",
       "    <tr>\n",
       "      <th>...</th>\n",
       "      <td>...</td>\n",
       "    </tr>\n",
       "    <tr>\n",
       "      <th>2021-08-13 00:00:00</th>\n",
       "      <td>138.0</td>\n",
       "    </tr>\n",
       "    <tr>\n",
       "      <th>2021-08-13 04:00:00</th>\n",
       "      <td>223.0</td>\n",
       "    </tr>\n",
       "    <tr>\n",
       "      <th>2021-08-13 08:00:00</th>\n",
       "      <td>1062.0</td>\n",
       "    </tr>\n",
       "    <tr>\n",
       "      <th>2021-08-13 12:00:00</th>\n",
       "      <td>1165.0</td>\n",
       "    </tr>\n",
       "    <tr>\n",
       "      <th>2021-08-13 16:00:00</th>\n",
       "      <td>1748.0</td>\n",
       "    </tr>\n",
       "  </tbody>\n",
       "</table>\n",
       "<p>9910 rows × 1 columns</p>\n",
       "</div>"
      ],
      "text/plain": [
       "                     Entries\n",
       "2017-02-04 04:00:00    403.0\n",
       "2017-02-04 08:00:00   1284.0\n",
       "2017-02-04 12:00:00   2316.0\n",
       "2017-02-04 16:00:00   2383.0\n",
       "2017-02-04 20:00:00   1526.0\n",
       "...                      ...\n",
       "2021-08-13 00:00:00    138.0\n",
       "2021-08-13 04:00:00    223.0\n",
       "2021-08-13 08:00:00   1062.0\n",
       "2021-08-13 12:00:00   1165.0\n",
       "2021-08-13 16:00:00   1748.0\n",
       "\n",
       "[9910 rows x 1 columns]"
      ]
     },
     "execution_count": 6,
     "metadata": {},
     "output_type": "execute_result"
    }
   ],
   "source": [
    "data"
   ]
  },
  {
   "cell_type": "code",
   "execution_count": 7,
   "metadata": {},
   "outputs": [],
   "source": [
    "train, test = tool.train_test_split(train_start_date='2017-03-05', train_end_date='2018-03-05',\n",
    "                         test_start_date='2018-03-06', test_end_date='2018-04-06')"
   ]
  },
  {
   "cell_type": "code",
   "execution_count": 8,
   "metadata": {},
   "outputs": [
    {
     "data": {
      "text/plain": [
       "<forecaster_tool.forecasters.arima.ArimaModel at 0x1898e005730>"
      ]
     },
     "execution_count": 8,
     "metadata": {},
     "output_type": "execute_result"
    }
   ],
   "source": [
    "tool.create_forecaster('Arima', forecast_steps = 6)"
   ]
  },
  {
   "cell_type": "code",
   "execution_count": 9,
   "metadata": {},
   "outputs": [],
   "source": [
    "forecasts, model = tool.fit()"
   ]
  },
  {
   "cell_type": "code",
   "execution_count": 10,
   "metadata": {},
   "outputs": [
    {
     "data": {
      "text/html": [
       "<div>\n",
       "<style scoped>\n",
       "    .dataframe tbody tr th:only-of-type {\n",
       "        vertical-align: middle;\n",
       "    }\n",
       "\n",
       "    .dataframe tbody tr th {\n",
       "        vertical-align: top;\n",
       "    }\n",
       "\n",
       "    .dataframe thead th {\n",
       "        text-align: right;\n",
       "    }\n",
       "</style>\n",
       "<table border=\"1\" class=\"dataframe\">\n",
       "  <thead>\n",
       "    <tr style=\"text-align: right;\">\n",
       "      <th></th>\n",
       "      <th>Datetime</th>\n",
       "      <th>Actual</th>\n",
       "      <th>Forecast_Horizon</th>\n",
       "      <th>Forecast_Step</th>\n",
       "      <th>Predicted</th>\n",
       "    </tr>\n",
       "  </thead>\n",
       "  <tbody>\n",
       "    <tr>\n",
       "      <th>0</th>\n",
       "      <td>2018-03-06 00:00:00</td>\n",
       "      <td>741.0</td>\n",
       "      <td>2018-03-06 04:00:00</td>\n",
       "      <td>1</td>\n",
       "      <td>1560</td>\n",
       "    </tr>\n",
       "    <tr>\n",
       "      <th>1</th>\n",
       "      <td>2018-03-06 00:00:00</td>\n",
       "      <td>2995.0</td>\n",
       "      <td>2018-03-06 08:00:00</td>\n",
       "      <td>2</td>\n",
       "      <td>2606</td>\n",
       "    </tr>\n",
       "    <tr>\n",
       "      <th>2</th>\n",
       "      <td>2018-03-06 00:00:00</td>\n",
       "      <td>3547.0</td>\n",
       "      <td>2018-03-06 12:00:00</td>\n",
       "      <td>3</td>\n",
       "      <td>3542</td>\n",
       "    </tr>\n",
       "    <tr>\n",
       "      <th>3</th>\n",
       "      <td>2018-03-06 00:00:00</td>\n",
       "      <td>4199.0</td>\n",
       "      <td>2018-03-06 16:00:00</td>\n",
       "      <td>4</td>\n",
       "      <td>3253</td>\n",
       "    </tr>\n",
       "    <tr>\n",
       "      <th>4</th>\n",
       "      <td>2018-03-06 00:00:00</td>\n",
       "      <td>2715.0</td>\n",
       "      <td>2018-03-06 20:00:00</td>\n",
       "      <td>5</td>\n",
       "      <td>2255</td>\n",
       "    </tr>\n",
       "    <tr>\n",
       "      <th>5</th>\n",
       "      <td>2018-03-06 00:00:00</td>\n",
       "      <td>56.0</td>\n",
       "      <td>2018-03-07 00:00:00</td>\n",
       "      <td>6</td>\n",
       "      <td>1381</td>\n",
       "    </tr>\n",
       "    <tr>\n",
       "      <th>6</th>\n",
       "      <td>2018-03-06 04:00:00</td>\n",
       "      <td>2995.0</td>\n",
       "      <td>2018-03-06 08:00:00</td>\n",
       "      <td>1</td>\n",
       "      <td>2198</td>\n",
       "    </tr>\n",
       "    <tr>\n",
       "      <th>7</th>\n",
       "      <td>2018-03-06 04:00:00</td>\n",
       "      <td>3547.0</td>\n",
       "      <td>2018-03-06 12:00:00</td>\n",
       "      <td>2</td>\n",
       "      <td>3267</td>\n",
       "    </tr>\n",
       "    <tr>\n",
       "      <th>8</th>\n",
       "      <td>2018-03-06 04:00:00</td>\n",
       "      <td>4199.0</td>\n",
       "      <td>2018-03-06 16:00:00</td>\n",
       "      <td>3</td>\n",
       "      <td>2964</td>\n",
       "    </tr>\n",
       "    <tr>\n",
       "      <th>9</th>\n",
       "      <td>2018-03-06 04:00:00</td>\n",
       "      <td>2715.0</td>\n",
       "      <td>2018-03-06 20:00:00</td>\n",
       "      <td>4</td>\n",
       "      <td>2553</td>\n",
       "    </tr>\n",
       "  </tbody>\n",
       "</table>\n",
       "</div>"
      ],
      "text/plain": [
       "             Datetime  Actual    Forecast_Horizon  Forecast_Step  Predicted\n",
       "0 2018-03-06 00:00:00   741.0 2018-03-06 04:00:00              1       1560\n",
       "1 2018-03-06 00:00:00  2995.0 2018-03-06 08:00:00              2       2606\n",
       "2 2018-03-06 00:00:00  3547.0 2018-03-06 12:00:00              3       3542\n",
       "3 2018-03-06 00:00:00  4199.0 2018-03-06 16:00:00              4       3253\n",
       "4 2018-03-06 00:00:00  2715.0 2018-03-06 20:00:00              5       2255\n",
       "5 2018-03-06 00:00:00    56.0 2018-03-07 00:00:00              6       1381\n",
       "6 2018-03-06 04:00:00  2995.0 2018-03-06 08:00:00              1       2198\n",
       "7 2018-03-06 04:00:00  3547.0 2018-03-06 12:00:00              2       3267\n",
       "8 2018-03-06 04:00:00  4199.0 2018-03-06 16:00:00              3       2964\n",
       "9 2018-03-06 04:00:00  2715.0 2018-03-06 20:00:00              4       2553"
      ]
     },
     "execution_count": 10,
     "metadata": {},
     "output_type": "execute_result"
    }
   ],
   "source": [
    "forecasts.head(10)"
   ]
  },
  {
   "cell_type": "code",
   "execution_count": 11,
   "metadata": {},
   "outputs": [
    {
     "data": {
      "text/plain": [
       "ARIMA(order=(5, 0, 3), scoring_args={}, suppress_warnings=True)"
      ]
     },
     "execution_count": 11,
     "metadata": {},
     "output_type": "execute_result"
    }
   ],
   "source": [
    "model"
   ]
  },
  {
   "cell_type": "code",
   "execution_count": 12,
   "metadata": {},
   "outputs": [
    {
     "data": {
      "text/html": [
       "<div>\n",
       "<style scoped>\n",
       "    .dataframe tbody tr th:only-of-type {\n",
       "        vertical-align: middle;\n",
       "    }\n",
       "\n",
       "    .dataframe tbody tr th {\n",
       "        vertical-align: top;\n",
       "    }\n",
       "\n",
       "    .dataframe thead th {\n",
       "        text-align: right;\n",
       "    }\n",
       "</style>\n",
       "<table border=\"1\" class=\"dataframe\">\n",
       "  <thead>\n",
       "    <tr style=\"text-align: right;\">\n",
       "      <th></th>\n",
       "      <th>General</th>\n",
       "      <th>Horizon_step_1</th>\n",
       "      <th>Horizon_step_2</th>\n",
       "      <th>Horizon_step_3</th>\n",
       "      <th>Horizon_step_4</th>\n",
       "      <th>Horizon_step_5</th>\n",
       "      <th>Horizon_step_6</th>\n",
       "    </tr>\n",
       "  </thead>\n",
       "  <tbody>\n",
       "    <tr>\n",
       "      <th>MAE</th>\n",
       "      <td>668.761273</td>\n",
       "      <td>629.054974</td>\n",
       "      <td>673.439474</td>\n",
       "      <td>712.997354</td>\n",
       "      <td>682.071809</td>\n",
       "      <td>656.949198</td>\n",
       "      <td>658.228495</td>\n",
       "    </tr>\n",
       "    <tr>\n",
       "      <th>RMSE</th>\n",
       "      <td>850.949897</td>\n",
       "      <td>799.002805</td>\n",
       "      <td>866.004674</td>\n",
       "      <td>898.438081</td>\n",
       "      <td>866.867110</td>\n",
       "      <td>837.670242</td>\n",
       "      <td>834.397127</td>\n",
       "    </tr>\n",
       "    <tr>\n",
       "      <th>MAPE</th>\n",
       "      <td>1.174843</td>\n",
       "      <td>1.039771</td>\n",
       "      <td>1.192320</td>\n",
       "      <td>1.202951</td>\n",
       "      <td>1.106081</td>\n",
       "      <td>1.246303</td>\n",
       "      <td>1.264791</td>\n",
       "    </tr>\n",
       "  </tbody>\n",
       "</table>\n",
       "</div>"
      ],
      "text/plain": [
       "         General  Horizon_step_1  Horizon_step_2  Horizon_step_3  \\\n",
       "MAE   668.761273      629.054974      673.439474      712.997354   \n",
       "RMSE  850.949897      799.002805      866.004674      898.438081   \n",
       "MAPE    1.174843        1.039771        1.192320        1.202951   \n",
       "\n",
       "      Horizon_step_4  Horizon_step_5  Horizon_step_6  \n",
       "MAE       682.071809      656.949198      658.228495  \n",
       "RMSE      866.867110      837.670242      834.397127  \n",
       "MAPE        1.106081        1.246303        1.264791  "
      ]
     },
     "execution_count": 12,
     "metadata": {},
     "output_type": "execute_result"
    },
    {
     "data": {
      "image/png": "[encoded data removed]",
      "text/plain": [
       "<Figure size 432x288 with 1 Axes>"
      ]
     },
     "metadata": {
      "needs_background": "light"
     },
     "output_type": "display_data"
    }
   ],
   "source": [
    "tool.calculate_performance(forecasts, plot=True, horizon_step=2)"
   ]
  },
  {
   "cell_type": "code",
   "execution_count": 13,
   "metadata": {},
   "outputs": [
    {
     "name": "stdout",
     "output_type": "stream",
     "text": [
      "Saved forecaster arima_forecaster\n"
     ]
    }
   ],
   "source": [
    "tool.save_forecaster('arima_forecaster')"
   ]
  },
  {
   "cell_type": "code",
   "execution_count": 14,
   "metadata": {},
   "outputs": [
    {
     "name": "stdout",
     "output_type": "stream",
     "text": [
      "Loaded forecaster arima_forecaster\n"
     ]
    }
   ],
   "source": [
    "new_tool = ft.ForecasterTool()\n",
    "new_tool.load_forecaster('arima_forecaster')"
   ]
  },
  {
   "cell_type": "code",
   "execution_count": 15,
   "metadata": {},
   "outputs": [
    {
     "data": {
      "text/html": [
       "<div>\n",
       "<style scoped>\n",
       "    .dataframe tbody tr th:only-of-type {\n",
       "        vertical-align: middle;\n",
       "    }\n",
       "\n",
       "    .dataframe tbody tr th {\n",
       "        vertical-align: top;\n",
       "    }\n",
       "\n",
       "    .dataframe thead th {\n",
       "        text-align: right;\n",
       "    }\n",
       "</style>\n",
       "<table border=\"1\" class=\"dataframe\">\n",
       "  <thead>\n",
       "    <tr style=\"text-align: right;\">\n",
       "      <th></th>\n",
       "      <th>Datetime</th>\n",
       "      <th>Actual</th>\n",
       "      <th>Forecast_Horizon</th>\n",
       "      <th>Forecast_Step</th>\n",
       "      <th>Predicted</th>\n",
       "    </tr>\n",
       "  </thead>\n",
       "  <tbody>\n",
       "    <tr>\n",
       "      <th>0</th>\n",
       "      <td>2018-03-06 00:00:00</td>\n",
       "      <td>741.0</td>\n",
       "      <td>2018-03-06 04:00:00</td>\n",
       "      <td>1</td>\n",
       "      <td>1560</td>\n",
       "    </tr>\n",
       "    <tr>\n",
       "      <th>1</th>\n",
       "      <td>2018-03-06 00:00:00</td>\n",
       "      <td>2995.0</td>\n",
       "      <td>2018-03-06 08:00:00</td>\n",
       "      <td>2</td>\n",
       "      <td>2606</td>\n",
       "    </tr>\n",
       "    <tr>\n",
       "      <th>2</th>\n",
       "      <td>2018-03-06 00:00:00</td>\n",
       "      <td>3547.0</td>\n",
       "      <td>2018-03-06 12:00:00</td>\n",
       "      <td>3</td>\n",
       "      <td>3542</td>\n",
       "    </tr>\n",
       "    <tr>\n",
       "      <th>3</th>\n",
       "      <td>2018-03-06 00:00:00</td>\n",
       "      <td>4199.0</td>\n",
       "      <td>2018-03-06 16:00:00</td>\n",
       "      <td>4</td>\n",
       "      <td>3253</td>\n",
       "    </tr>\n",
       "    <tr>\n",
       "      <th>4</th>\n",
       "      <td>2018-03-06 00:00:00</td>\n",
       "      <td>2715.0</td>\n",
       "      <td>2018-03-06 20:00:00</td>\n",
       "      <td>5</td>\n",
       "      <td>2255</td>\n",
       "    </tr>\n",
       "    <tr>\n",
       "      <th>...</th>\n",
       "      <td>...</td>\n",
       "      <td>...</td>\n",
       "      <td>...</td>\n",
       "      <td>...</td>\n",
       "      <td>...</td>\n",
       "    </tr>\n",
       "    <tr>\n",
       "      <th>1126</th>\n",
       "      <td>2018-04-06 08:00:00</td>\n",
       "      <td>3613.0</td>\n",
       "      <td>2018-04-06 16:00:00</td>\n",
       "      <td>2</td>\n",
       "      <td>3585</td>\n",
       "    </tr>\n",
       "    <tr>\n",
       "      <th>1127</th>\n",
       "      <td>2018-04-06 08:00:00</td>\n",
       "      <td>2437.0</td>\n",
       "      <td>2018-04-06 20:00:00</td>\n",
       "      <td>3</td>\n",
       "      <td>2720</td>\n",
       "    </tr>\n",
       "    <tr>\n",
       "      <th>1128</th>\n",
       "      <td>2018-04-06 12:00:00</td>\n",
       "      <td>3613.0</td>\n",
       "      <td>2018-04-06 16:00:00</td>\n",
       "      <td>1</td>\n",
       "      <td>3465</td>\n",
       "    </tr>\n",
       "    <tr>\n",
       "      <th>1129</th>\n",
       "      <td>2018-04-06 12:00:00</td>\n",
       "      <td>2437.0</td>\n",
       "      <td>2018-04-06 20:00:00</td>\n",
       "      <td>2</td>\n",
       "      <td>2640</td>\n",
       "    </tr>\n",
       "    <tr>\n",
       "      <th>1130</th>\n",
       "      <td>2018-04-06 16:00:00</td>\n",
       "      <td>2437.0</td>\n",
       "      <td>2018-04-06 20:00:00</td>\n",
       "      <td>1</td>\n",
       "      <td>2714</td>\n",
       "    </tr>\n",
       "  </tbody>\n",
       "</table>\n",
       "<p>1131 rows × 5 columns</p>\n",
       "</div>"
      ],
      "text/plain": [
       "                Datetime  Actual    Forecast_Horizon  Forecast_Step  Predicted\n",
       "0    2018-03-06 00:00:00   741.0 2018-03-06 04:00:00              1       1560\n",
       "1    2018-03-06 00:00:00  2995.0 2018-03-06 08:00:00              2       2606\n",
       "2    2018-03-06 00:00:00  3547.0 2018-03-06 12:00:00              3       3542\n",
       "3    2018-03-06 00:00:00  4199.0 2018-03-06 16:00:00              4       3253\n",
       "4    2018-03-06 00:00:00  2715.0 2018-03-06 20:00:00              5       2255\n",
       "...                  ...     ...                 ...            ...        ...\n",
       "1126 2018-04-06 08:00:00  3613.0 2018-04-06 16:00:00              2       3585\n",
       "1127 2018-04-06 08:00:00  2437.0 2018-04-06 20:00:00              3       2720\n",
       "1128 2018-04-06 12:00:00  3613.0 2018-04-06 16:00:00              1       3465\n",
       "1129 2018-04-06 12:00:00  2437.0 2018-04-06 20:00:00              2       2640\n",
       "1130 2018-04-06 16:00:00  2437.0 2018-04-06 20:00:00              1       2714\n",
       "\n",
       "[1131 rows x 5 columns]"
      ]
     },
     "execution_count": 15,
     "metadata": {},
     "output_type": "execute_result"
    }
   ],
   "source": [
    "new_tool.test_forecast"
   ]
  },
  {
   "cell_type": "code",
   "execution_count": 16,
   "metadata": {},
   "outputs": [
    {
     "data": {
      "text/plain": [
       "ARIMA(order=(5, 0, 3), scoring_args={}, suppress_warnings=True)"
      ]
     },
     "execution_count": 16,
     "metadata": {},
     "output_type": "execute_result"
    }
   ],
   "source": [
    "new_tool.model"
   ]
  },
  {
   "cell_type": "code",
   "execution_count": null,
   "metadata": {},
   "outputs": [],
   "source": []
  }
 ],
 "metadata": {
  "kernelspec": {
   "display_name": "Python 3 (ipykernel)",
   "language": "python",
   "name": "python3"
  },
  "language_info": {
   "codemirror_mode": {
    "name": "ipython",
    "version": 3
   },
   "file_extension": ".py",
   "mimetype": "text/x-python",
   "name": "python",
   "nbconvert_exporter": "python",
   "pygments_lexer": "ipython3",
   "version": "3.8.5"
  }
 },
 "nbformat": 4,
 "nbformat_minor": 4
}
